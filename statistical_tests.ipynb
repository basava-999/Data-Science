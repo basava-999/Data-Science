{
  "cells": [
    {
      "cell_type": "markdown",
      "metadata": {
        "id": "view-in-github",
        "colab_type": "text"
      },
      "source": [
        "<a href=\"https://colab.research.google.com/github/basava-999/Data-Science/blob/main/statistical_tests.ipynb\" target=\"_parent\"><img src=\"https://colab.research.google.com/assets/colab-badge.svg\" alt=\"Open In Colab\"/></a>"
      ]
    },
    {
      "cell_type": "code",
      "execution_count": null,
      "metadata": {
        "id": "B7AqxSGvFo6E"
      },
      "outputs": [],
      "source": [
        "\n",
        "import numpy as np\n",
        "import pandas as pd\n",
        "import matplotlib.pyplot as plt\n",
        "import seaborn as sns\n",
        "\n",
        "from scipy import stats\n"
      ]
    },
    {
      "cell_type": "markdown",
      "metadata": {
        "id": "UZvB_tGbGDdE"
      },
      "source": [
        "## **( 1 ). Levene_Test**"
      ]
    },
    {
      "cell_type": "markdown",
      "metadata": {
        "id": "fcEiRG5wGHMN"
      },
      "source": [
        " **Null Hypothesis        ............... ::** *All the groups have similar variance*\n",
        "\n",
        " **Alternative hypothesis ..... ::** *Atleast one of the groups have different variance from rest*"
      ]
    },
    {
      "cell_type": "markdown",
      "metadata": {
        "id": "Zs3GRn9nG1L4"
      },
      "source": [
        "**It is mostly used to test equal variance assumptions that are required for other statistical tests**"
      ]
    },
    {
      "cell_type": "code",
      "execution_count": null,
      "metadata": {
        "colab": {
          "base_uri": "https://localhost:8080/"
        },
        "id": "8LQ7oUSR9qJ_",
        "outputId": "59723c62-6056-44fc-e785-2c7d65724ad6"
      },
      "outputs": [
        {
          "output_type": "execute_result",
          "data": {
            "text/plain": [
              "(np.float64(76.16665736850754), np.float64(1.985604402173233e-27))"
            ]
          },
          "metadata": {},
          "execution_count": 5
        }
      ],
      "source": [
        "# random groups data\n",
        "a = np.random.normal( 60, 5, 100)\n",
        "b = np.random.normal( 75, 10, 100)\n",
        "c = np.random.normal( 90, 2, 100)\n",
        "\n",
        "# K, N values\n",
        "K = 3\n",
        "N = len(a) + len(b) + len(c)\n",
        "\n",
        "# means of each group\n",
        "mean_a = np.mean(a)\n",
        "mean_b = np.mean(b)\n",
        "mean_c = np.mean(c)\n",
        "\n",
        "# absolute deviations\n",
        "abs_dev_a = np.abs( a - mean_a )\n",
        "abs_dev_b = np.abs( b - mean_b)\n",
        "abs_dev_c = np.abs( c - mean_c)\n",
        "\n",
        "# means of absolute deviations\n",
        "mean_abs_dev_a = np.mean( abs_dev_a )\n",
        "mean_abs_dev_b = np.mean( abs_dev_b )\n",
        "mean_abs_dev_c = np.mean( abs_dev_c )\n",
        "\n",
        "# grand mean\n",
        "grand_mean = ( mean_abs_dev_a + mean_abs_dev_b + mean_abs_dev_c ) / 3\n",
        "\n",
        "# calculation of numerator\n",
        "numerator = len(a)*(mean_abs_dev_a - grand_mean)**2 + len(b)*(mean_abs_dev_b - grand_mean)**2 + len(c)*(mean_abs_dev_c - grand_mean)**2\n",
        "\n",
        "# denominator calculation\n",
        "d_a = np.sum( ( abs_dev_a - mean_abs_dev_a)**2 )\n",
        "d_b = np.sum( ( abs_dev_b - mean_abs_dev_b)**2 )\n",
        "d_c = np.sum( ( abs_dev_c - mean_abs_dev_c)**2 )\n",
        "\n",
        "denominator = d_a + d_b + d_c\n",
        "\n",
        "# df1, df2\n",
        "df1 = K - 1\n",
        "df2 = N - K\n",
        "\n",
        "# Test statistics\n",
        "statistics = ( df2 * numerator ) / ( df1 * denominator )\n",
        "\n",
        "# p_value at df1, df2 & statistics\n",
        "p_value = stats.f.sf( statistics, df1, df2)\n",
        "\n",
        "statistics, p_value"
      ]
    },
    {
      "cell_type": "markdown",
      "metadata": {
        "id": "NRkxHlPcCbFr"
      },
      "source": [
        "**scipy.stats.levene( statistic, df1, df2 , centre = 'mean' )**"
      ]
    },
    {
      "cell_type": "code",
      "execution_count": null,
      "metadata": {
        "colab": {
          "base_uri": "https://localhost:8080/"
        },
        "id": "zbUlPYtYCFIa",
        "outputId": "c93169ec-695f-4f13-d091-8b0f74602362"
      },
      "outputs": [
        {
          "data": {
            "text/plain": [
              "(np.float64(68.91151441122352), np.float64(2.599686631568808e-25))"
            ]
          },
          "execution_count": 9,
          "metadata": {},
          "output_type": "execute_result"
        }
      ],
      "source": [
        "stat , p = stats.levene( a, b, c, center = 'mean')\n",
        "stat, p"
      ]
    },
    {
      "cell_type": "markdown",
      "metadata": {
        "id": "x-b71YrBDILL"
      },
      "source": [
        "## **( 2 ). Z Test**\n",
        "\n",
        "The Z-test is a statistical hypothesis test that determines whether there is a significant difference between the sample mean and the population mean, or between the means of two samples.\n",
        "\n",
        " It is commonly used when the population is normally distributed\n",
        "\n",
        "###### **Types of Z-Tests**\n",
        "\n",
        "*One-Sample Z-Test:_________* Used to compare the sample mean to a known population mean.\n",
        "\n",
        "\n",
        "*   Comparing the average height of students in a class with the national average.\n",
        "\n",
        "*   Comparing the mean weight of a sample of fruits to the standard weight of the fruit.\n",
        "\n",
        "*Two-Sample Z-Test:________* Used to compare the means of two independent samples.\n",
        "\n",
        "\n",
        "*   Comparing the average sales of two stores to determine if one store is performing better than the other.\n",
        "\n",
        "*   Comparing the mean exam scores of two different classrooms.\n",
        "\n",
        "\n",
        "*Z-Test for Proportions:_* Used to test if the proportion of a sample differs significantly from a population proportion.\n",
        "*   Checking if the proportion of defective products from a factory is above a certain threshold.\n",
        "\n",
        "*   Determining whether the proportion of people in a city supporting a particular policy is different from the national average."
      ]
    },
    {
      "cell_type": "code",
      "execution_count": null,
      "metadata": {
        "id": "dumBseYrjEfU",
        "colab": {
          "base_uri": "https://localhost:8080/"
        },
        "outputId": "ca215d2f-5f73-4c3e-a20b-e49c2e4eed86"
      },
      "outputs": [
        {
          "output_type": "stream",
          "name": "stdout",
          "text": [
            "Statistics : -8.6696\n",
            "P_value    : 0.0\n",
            "\n",
            "\n",
            "Null Hypothesis Rejected\n",
            "There is significant difference between sample mean and population mean\n"
          ]
        }
      ],
      "source": [
        "# One-Sample Z-Test\n",
        "\n",
        "np.random.seed( 9 )\n",
        "# H0 : no significant difference\n",
        "# H1 : significant difference exists\n",
        "\n",
        "\n",
        "data = np.random.normal( 52, 15, 100)      # mean = 45, std = 15, samples = 50, sample data\n",
        "\n",
        "population_mean = 60\n",
        "population_std  = 9.45\n",
        "\n",
        "sample_mean = np.mean( data )\n",
        "sample_len  = len( data )\n",
        "\n",
        "statistics  = ( sample_mean - population_mean ) / ( population_std / np.sqrt(sample_len))  # Z - score\n",
        "p_value     =  2 * ( 1 - stats.norm.cdf( np.abs( statistics)) )\n",
        "\n",
        "print( f'Statistics : { round( statistics, 4) }\\nP_value    : { p_value }')\n",
        "\n",
        "alpha = 0.05\n",
        "\n",
        "if p_value >= alpha:\n",
        "  print( '\\n\\nNull Hypothesis Accepted')\n",
        "  print( 'There is no significant difference between sample mean and population mean')\n",
        "else:\n",
        "  print( '\\n\\nNull Hypothesis Rejected')\n",
        "  print( 'There is significant difference between sample mean and population mean')"
      ]
    },
    {
      "cell_type": "markdown",
      "source": [
        "#### Applications of One-Sample Z-Test\n",
        "\n",
        "1. **Manufacturing**: Testing if the average lifespan of bulbs (sample) differs from the claimed 1,000 hours.  \n",
        "2. **Medical Research**: Checking if the average weight loss in patients after taking a drug differs from the expected 5 kg.  \n",
        "3. **Education**: Verifying if the average math test score in a class is different from the national average of 70.  \n",
        "4. **Environmental Studies**: Evaluating if the average AQI in a city differs from the reported safe limit of 50.  "
      ],
      "metadata": {
        "id": "zyddARD6wRvL"
      }
    },
    {
      "cell_type": "code",
      "source": [
        "# two-sample Z-Test\n",
        "\n",
        "np.random.seed( 10 )\n",
        "# H0 : no significant difference two groups\n",
        "# H1 : significant difference exists\n",
        "\n",
        "sample_1 = np.random.normal( 85, 7, 100)\n",
        "sample_2 = np.random.normal( 78, 3, 100)\n",
        "\n",
        "sample_1_mean, sample_2_mean = np.mean( sample_1 ), np.mean( sample_2 )\n",
        "sample_1_std, sample_2_std   = np.std( sample_1 ), np.std( sample_2)\n",
        "n1, n2 = len( sample_1 ), len( sample_2 )\n",
        "\n",
        "numerator   = sample_1_mean - sample_2_mean\n",
        "denominator = np.sqrt( (sample_1_std**2 / n1) + (sample_2_std**2 / n2) )\n",
        "\n",
        "statistics_2 = numerator / denominator\n",
        "p_value_2    = 2 * ( 1 - stats.norm.cdf( np.abs( statistics_2 )))\n",
        "\n",
        "print( f'Statistics : { round( statistics_2, 4) }\\nP_value    : { p_value_2 }')\n",
        "\n",
        "alpha = 0.05\n",
        "\n",
        "if p_value_2 >= alpha:\n",
        "  print( '\\n\\nNull Hypothesis Accepted')\n",
        "  print( 'There is no significant difference between two groups')\n",
        "else:\n",
        "  print( '\\n\\nNull Hypothesis Rejected')\n",
        "  print( 'There is significant difference between two groups')\n"
      ],
      "metadata": {
        "colab": {
          "base_uri": "https://localhost:8080/"
        },
        "id": "FbLVk4Q7vPw6",
        "outputId": "a46a0202-436d-410f-936c-3035fe301b58"
      },
      "execution_count": null,
      "outputs": [
        {
          "output_type": "stream",
          "name": "stdout",
          "text": [
            "Statistics : 9.9483\n",
            "P_value    : 0.0\n",
            "\n",
            "\n",
            "Null Hypothesis Rejected\n",
            "There is significant difference between two groups\n"
          ]
        }
      ]
    },
    {
      "cell_type": "markdown",
      "source": [
        "\n",
        "### Applications of Two-Sample Z-Test  \n",
        "\n",
        "1. **Medical Research**: Comparing the mean blood pressure reduction in two groups after administering different medications.  \n",
        "2. **Marketing Research**: Testing whether two different advertising campaigns lead to different average sales.  \n",
        "3. **Education**: Comparing the average test scores of students in two different schools to determine if there’s a significant difference in performance.  \n",
        "4. **Manufacturing**: Checking whether machines A and B produce products with different average weights."
      ],
      "metadata": {
        "id": "cj-tvHtD1Gl3"
      }
    },
    {
      "cell_type": "code",
      "source": [],
      "metadata": {
        "id": "-Gray5QszYue"
      },
      "execution_count": null,
      "outputs": []
    }
  ],
  "metadata": {
    "colab": {
      "provenance": [],
      "authorship_tag": "ABX9TyOUnkFvYEqLII251/ZD0gib",
      "include_colab_link": true
    },
    "kernelspec": {
      "display_name": "Python 3",
      "name": "python3"
    },
    "language_info": {
      "name": "python"
    }
  },
  "nbformat": 4,
  "nbformat_minor": 0
}